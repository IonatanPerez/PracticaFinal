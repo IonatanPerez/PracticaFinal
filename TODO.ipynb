{
 "cells": [
  {
   "cell_type": "code",
   "execution_count": 2,
   "metadata": {},
   "outputs": [],
   "source": [
    "%load_ext autoreload\n",
    "%autoreload 2\n",
    "import camara\n",
    "import control\n",
    "import numpy as np\n",
    "import serial\n",
    "import time\n",
    "import cv2\n"
   ]
  },
  {
   "cell_type": "code",
   "execution_count": 20,
   "metadata": {},
   "outputs": [],
   "source": [
    "# abro arduino\n",
    "motor = serial.Serial('COM5',9600)"
   ]
  },
  {
   "cell_type": "code",
   "execution_count": 38,
   "metadata": {},
   "outputs": [],
   "source": [
    "pasos = -50\n",
    "b = bytes('PASO '+str(pasos)+'\\n', 'utf-8') #paso a bytes lo que tengo que mandarle a la arduino. "
   ]
  },
  {
   "cell_type": "code",
   "execution_count": 40,
   "metadata": {},
   "outputs": [
    {
     "data": {
      "text/plain": [
       "9"
      ]
     },
     "execution_count": 40,
     "metadata": {},
     "output_type": "execute_result"
    }
   ],
   "source": [
    "motor.write(b)\n"
   ]
  },
  {
   "cell_type": "code",
   "execution_count": 14,
   "metadata": {},
   "outputs": [],
   "source": [
    "motor.close()"
   ]
  },
  {
   "cell_type": "code",
   "execution_count": 18,
   "metadata": {},
   "outputs": [
    {
     "name": "stdout",
     "output_type": "stream",
     "text": [
      "371.6290322580645 413.7043010752688\n",
      "373.2248062015504 408.9651162790698\n",
      "371.5880893300248 405.01488833746896\n",
      "371.6587301587302 407.87301587301585\n",
      "372.83529411764704 409.49176470588236\n"
     ]
    }
   ],
   "source": [
    "#calibracion\n",
    "color = camara.seleccionarColor()\n",
    "cap = cv2.VideoCapture(0)\n",
    "for i in range(5):\n",
    "    ret, frame = cap.read()\n",
    "    xcm, ycm = camara.get_CM(color, tolerancia = 20, idn=0, show=True, imagen = frame)\n",
    "    print (xcm, ycm)\n",
    "    key = cv2.waitKey(1000)\n",
    "cap.release()\n",
    "cv2.destroyAllWindows()"
   ]
  },
  {
   "cell_type": "code",
   "execution_count": 21,
   "metadata": {},
   "outputs": [
    {
     "name": "stdout",
     "output_type": "stream",
     "text": [
      "50.0\n",
      "50.0\n",
      "-27.402585410895654\n",
      "-50.0\n",
      "-50.0\n",
      "-50.0\n",
      "50.0\n",
      "50.0\n",
      "50.0\n",
      "-26.481539670070703\n",
      "-50.0\n",
      "-50.0\n",
      "-50.0\n",
      "50.0\n",
      "50.0\n",
      "50.0\n",
      "1.088305489260165\n",
      "-50.0\n",
      "-50.0\n",
      "-50.0\n"
     ]
    }
   ],
   "source": [
    "## loop control\n",
    "motor = serial.Serial('COM5',9600)\n",
    "setpoint = 270\n",
    "lazo = control.PIDController(setpoint, kp = 1, ki = 0, s_min=-50,s_max=50)\n",
    "color = camara.seleccionarColor()\n",
    "cap = cv2.VideoCapture(0)\n",
    "xcm = 350\n",
    "for i in range(20):\n",
    "    ret, frame = cap.read()\n",
    "    frame = cv2.circle(frame,(int(xcm),int(setpoint)),20,(200, 200, 200),3)\n",
    "    xcm, ycm = camara.get_CM(color, tolerancia = 20, idn=0, show=True, imagen = frame)\n",
    "    pasos = - lazo.calculate(ycm)\n",
    "    print(pasos)\n",
    "    b = bytes('PASO '+str(pasos)+'\\n', 'utf-8') #paso a bytes lo que tengo que mandarle a la arduino.\n",
    "    motor.write(b)\n",
    "    key = cv2.waitKey(2000)\n",
    "    \n",
    "cap.release()\n",
    "cv2.destroyAllWindows()\n",
    "motor.close()"
   ]
  },
  {
   "cell_type": "code",
   "execution_count": null,
   "metadata": {},
   "outputs": [],
   "source": []
  }
 ],
 "metadata": {
  "kernelspec": {
   "display_name": "Python 3",
   "language": "python",
   "name": "python3"
  },
  "language_info": {
   "codemirror_mode": {
    "name": "ipython",
    "version": 3
   },
   "file_extension": ".py",
   "mimetype": "text/x-python",
   "name": "python",
   "nbconvert_exporter": "python",
   "pygments_lexer": "ipython3",
   "version": "3.6.4"
  }
 },
 "nbformat": 4,
 "nbformat_minor": 2
}
